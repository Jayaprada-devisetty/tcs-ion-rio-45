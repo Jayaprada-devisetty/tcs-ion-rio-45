{
 "cells": [
  {
   "cell_type": "markdown",
   "metadata": {},
   "source": [
    "# 1.Imports"
   ]
  },
  {
   "cell_type": "code",
   "execution_count": 1,
   "metadata": {},
   "outputs": [],
   "source": [
    "import numpy as np\n",
    "import pandas as pd\n",
    "pd.set_option('display.max_colwidth',-1)"
   ]
  },
  {
   "cell_type": "code",
   "execution_count": 2,
   "metadata": {},
   "outputs": [],
   "source": [
    "from time import time"
   ]
  },
  {
   "cell_type": "code",
   "execution_count": 3,
   "metadata": {},
   "outputs": [],
   "source": [
    "import re"
   ]
  },
  {
   "cell_type": "code",
   "execution_count": 4,
   "metadata": {},
   "outputs": [],
   "source": [
    "import string"
   ]
  },
  {
   "cell_type": "code",
   "execution_count": 5,
   "metadata": {},
   "outputs": [],
   "source": [
    "import os"
   ]
  },
  {
   "cell_type": "code",
   "execution_count": 6,
   "metadata": {},
   "outputs": [],
   "source": [
    "import emoji"
   ]
  },
  {
   "cell_type": "code",
   "execution_count": 7,
   "metadata": {},
   "outputs": [],
   "source": [
    "from pprint import pprint"
   ]
  },
  {
   "cell_type": "code",
   "execution_count": 8,
   "metadata": {},
   "outputs": [],
   "source": [
    "import collections"
   ]
  },
  {
   "cell_type": "code",
   "execution_count": 9,
   "metadata": {},
   "outputs": [],
   "source": [
    "import matplotlib.pyplot as plt"
   ]
  },
  {
   "cell_type": "code",
   "execution_count": 10,
   "metadata": {},
   "outputs": [],
   "source": [
    "import seaborn as sns"
   ]
  },
  {
   "cell_type": "code",
   "execution_count": 11,
   "metadata": {},
   "outputs": [],
   "source": [
    "sns.set(style=\"darkgrid\")"
   ]
  },
  {
   "cell_type": "code",
   "execution_count": 12,
   "metadata": {},
   "outputs": [],
   "source": [
    "sns.set(font_scale=1.3)"
   ]
  },
  {
   "cell_type": "code",
   "execution_count": 13,
   "metadata": {},
   "outputs": [],
   "source": [
    "from sklearn.base import BaseEstimator, TransformerMixin"
   ]
  },
  {
   "cell_type": "code",
   "execution_count": 14,
   "metadata": {},
   "outputs": [],
   "source": [
    "from sklearn.feature_extraction.text import CountVectorizer"
   ]
  },
  {
   "cell_type": "code",
   "execution_count": 15,
   "metadata": {},
   "outputs": [],
   "source": [
    "from sklearn.feature_extraction.text import TfidfVectorizer"
   ]
  },
  {
   "cell_type": "code",
   "execution_count": 16,
   "metadata": {},
   "outputs": [],
   "source": [
    "from sklearn.model_selection import GridSearchCV"
   ]
  },
  {
   "cell_type": "code",
   "execution_count": 17,
   "metadata": {},
   "outputs": [],
   "source": [
    "from sklearn.model_selection import train_test_split"
   ]
  },
  {
   "cell_type": "code",
   "execution_count": 18,
   "metadata": {},
   "outputs": [],
   "source": [
    "from sklearn.pipeline import Pipeline,FeatureUnion"
   ]
  },
  {
   "cell_type": "code",
   "execution_count": 19,
   "metadata": {},
   "outputs": [],
   "source": [
    "from sklearn.metrics import classification_report"
   ]
  },
  {
   "cell_type": "code",
   "execution_count": 20,
   "metadata": {},
   "outputs": [],
   "source": [
    "from sklearn.naive_bayes import MultinomialNB"
   ]
  },
  {
   "cell_type": "code",
   "execution_count": 21,
   "metadata": {},
   "outputs": [],
   "source": [
    "from sklearn.linear_model import LogisticRegression"
   ]
  },
  {
   "cell_type": "code",
   "execution_count": 22,
   "metadata": {},
   "outputs": [
    {
     "name": "stderr",
     "output_type": "stream",
     "text": [
      "C:\\Users\\Jayaprada\\Anaconda3\\lib\\site-packages\\sklearn\\externals\\joblib\\__init__.py:15: FutureWarning: sklearn.externals.joblib is deprecated in 0.21 and will be removed in 0.23. Please import this functionality directly from joblib, which can be installed with: pip install joblib. If this warning is raised when loading pickled models, you may need to re-serialize those models with scikit-learn 0.21+.\n",
      "  warnings.warn(msg, category=FutureWarning)\n"
     ]
    }
   ],
   "source": [
    "from sklearn.externals import joblib"
   ]
  },
  {
   "cell_type": "code",
   "execution_count": 23,
   "metadata": {},
   "outputs": [
    {
     "name": "stdout",
     "output_type": "stream",
     "text": [
      "Requirement already up-to-date: gensim in c:\\users\\jayaprada\\anaconda3\\lib\\site-packages (4.1.2)\n",
      "Requirement already satisfied, skipping upgrade: numpy>=1.17.0 in c:\\users\\jayaprada\\anaconda3\\lib\\site-packages (from gensim) (1.21.3)\n",
      "Requirement already satisfied, skipping upgrade: Cython==0.29.23 in c:\\users\\jayaprada\\anaconda3\\lib\\site-packages (from gensim) (0.29.23)\n",
      "Requirement already satisfied, skipping upgrade: scipy>=0.18.1 in c:\\users\\jayaprada\\anaconda3\\lib\\site-packages (from gensim) (1.3.1)\n",
      "Requirement already satisfied, skipping upgrade: smart-open>=1.8.1 in c:\\users\\jayaprada\\anaconda3\\lib\\site-packages (from gensim) (5.2.1)\n",
      "Note: you may need to restart the kernel to use updated packages.\n"
     ]
    }
   ],
   "source": [
    "pip install --upgrade gensim"
   ]
  },
  {
   "cell_type": "code",
   "execution_count": 24,
   "metadata": {},
   "outputs": [],
   "source": [
    "from nltk.corpus import stopwords"
   ]
  },
  {
   "cell_type": "code",
   "execution_count": 25,
   "metadata": {},
   "outputs": [],
   "source": [
    "import gensim"
   ]
  },
  {
   "cell_type": "code",
   "execution_count": 26,
   "metadata": {},
   "outputs": [],
   "source": [
    "import warnings"
   ]
  },
  {
   "cell_type": "code",
   "execution_count": 27,
   "metadata": {},
   "outputs": [],
   "source": [
    "warnings.filterwarnings('ignore')"
   ]
  },
  {
   "cell_type": "code",
   "execution_count": 28,
   "metadata": {},
   "outputs": [],
   "source": [
    "np.random.seed(37)"
   ]
  },
  {
   "cell_type": "markdown",
   "metadata": {},
   "source": [
    "# 2.Loading dataset"
   ]
  },
  {
   "cell_type": "code",
   "execution_count": 29,
   "metadata": {},
   "outputs": [],
   "source": [
    "airlines_train=pd.read_csv('Tweets.csv')"
   ]
  },
  {
   "cell_type": "code",
   "execution_count": 30,
   "metadata": {},
   "outputs": [
    {
     "data": {
      "text/html": [
       "<div>\n",
       "<style scoped>\n",
       "    .dataframe tbody tr th:only-of-type {\n",
       "        vertical-align: middle;\n",
       "    }\n",
       "\n",
       "    .dataframe tbody tr th {\n",
       "        vertical-align: top;\n",
       "    }\n",
       "\n",
       "    .dataframe thead th {\n",
       "        text-align: right;\n",
       "    }\n",
       "</style>\n",
       "<table border=\"1\" class=\"dataframe\">\n",
       "  <thead>\n",
       "    <tr style=\"text-align: right;\">\n",
       "      <th></th>\n",
       "      <th>tweet_id</th>\n",
       "      <th>airline_sentiment</th>\n",
       "      <th>airline_sentiment_confidence</th>\n",
       "      <th>negativereason</th>\n",
       "      <th>negativereason_confidence</th>\n",
       "      <th>airline</th>\n",
       "      <th>airline_sentiment_gold</th>\n",
       "      <th>name</th>\n",
       "      <th>negativereason_gold</th>\n",
       "      <th>retweet_count</th>\n",
       "      <th>text</th>\n",
       "      <th>tweet_coord</th>\n",
       "      <th>tweet_created</th>\n",
       "      <th>tweet_location</th>\n",
       "      <th>user_timezone</th>\n",
       "    </tr>\n",
       "  </thead>\n",
       "  <tbody>\n",
       "    <tr>\n",
       "      <td>0</td>\n",
       "      <td>570306133677760513</td>\n",
       "      <td>neutral</td>\n",
       "      <td>1.0000</td>\n",
       "      <td>NaN</td>\n",
       "      <td>NaN</td>\n",
       "      <td>Virgin America</td>\n",
       "      <td>NaN</td>\n",
       "      <td>cairdin</td>\n",
       "      <td>NaN</td>\n",
       "      <td>0</td>\n",
       "      <td>@VirginAmerica What @dhepburn said.</td>\n",
       "      <td>NaN</td>\n",
       "      <td>2015-02-24 11:35:52 -0800</td>\n",
       "      <td>NaN</td>\n",
       "      <td>Eastern Time (US &amp; Canada)</td>\n",
       "    </tr>\n",
       "    <tr>\n",
       "      <td>1</td>\n",
       "      <td>570301130888122368</td>\n",
       "      <td>positive</td>\n",
       "      <td>0.3486</td>\n",
       "      <td>NaN</td>\n",
       "      <td>0.0000</td>\n",
       "      <td>Virgin America</td>\n",
       "      <td>NaN</td>\n",
       "      <td>jnardino</td>\n",
       "      <td>NaN</td>\n",
       "      <td>0</td>\n",
       "      <td>@VirginAmerica plus you've added commercials to the experience... tacky.</td>\n",
       "      <td>NaN</td>\n",
       "      <td>2015-02-24 11:15:59 -0800</td>\n",
       "      <td>NaN</td>\n",
       "      <td>Pacific Time (US &amp; Canada)</td>\n",
       "    </tr>\n",
       "    <tr>\n",
       "      <td>2</td>\n",
       "      <td>570301083672813571</td>\n",
       "      <td>neutral</td>\n",
       "      <td>0.6837</td>\n",
       "      <td>NaN</td>\n",
       "      <td>NaN</td>\n",
       "      <td>Virgin America</td>\n",
       "      <td>NaN</td>\n",
       "      <td>yvonnalynn</td>\n",
       "      <td>NaN</td>\n",
       "      <td>0</td>\n",
       "      <td>@VirginAmerica I didn't today... Must mean I need to take another trip!</td>\n",
       "      <td>NaN</td>\n",
       "      <td>2015-02-24 11:15:48 -0800</td>\n",
       "      <td>Lets Play</td>\n",
       "      <td>Central Time (US &amp; Canada)</td>\n",
       "    </tr>\n",
       "    <tr>\n",
       "      <td>3</td>\n",
       "      <td>570301031407624196</td>\n",
       "      <td>negative</td>\n",
       "      <td>1.0000</td>\n",
       "      <td>Bad Flight</td>\n",
       "      <td>0.7033</td>\n",
       "      <td>Virgin America</td>\n",
       "      <td>NaN</td>\n",
       "      <td>jnardino</td>\n",
       "      <td>NaN</td>\n",
       "      <td>0</td>\n",
       "      <td>@VirginAmerica it's really aggressive to blast obnoxious \"entertainment\" in your guests' faces &amp;amp; they have little recourse</td>\n",
       "      <td>NaN</td>\n",
       "      <td>2015-02-24 11:15:36 -0800</td>\n",
       "      <td>NaN</td>\n",
       "      <td>Pacific Time (US &amp; Canada)</td>\n",
       "    </tr>\n",
       "    <tr>\n",
       "      <td>4</td>\n",
       "      <td>570300817074462722</td>\n",
       "      <td>negative</td>\n",
       "      <td>1.0000</td>\n",
       "      <td>Can't Tell</td>\n",
       "      <td>1.0000</td>\n",
       "      <td>Virgin America</td>\n",
       "      <td>NaN</td>\n",
       "      <td>jnardino</td>\n",
       "      <td>NaN</td>\n",
       "      <td>0</td>\n",
       "      <td>@VirginAmerica and it's a really big bad thing about it</td>\n",
       "      <td>NaN</td>\n",
       "      <td>2015-02-24 11:14:45 -0800</td>\n",
       "      <td>NaN</td>\n",
       "      <td>Pacific Time (US &amp; Canada)</td>\n",
       "    </tr>\n",
       "  </tbody>\n",
       "</table>\n",
       "</div>"
      ],
      "text/plain": [
       "             tweet_id airline_sentiment  airline_sentiment_confidence  \\\n",
       "0  570306133677760513  neutral           1.0000                         \n",
       "1  570301130888122368  positive          0.3486                         \n",
       "2  570301083672813571  neutral           0.6837                         \n",
       "3  570301031407624196  negative          1.0000                         \n",
       "4  570300817074462722  negative          1.0000                         \n",
       "\n",
       "  negativereason  negativereason_confidence         airline  \\\n",
       "0  NaN           NaN                         Virgin America   \n",
       "1  NaN            0.0000                     Virgin America   \n",
       "2  NaN           NaN                         Virgin America   \n",
       "3  Bad Flight     0.7033                     Virgin America   \n",
       "4  Can't Tell     1.0000                     Virgin America   \n",
       "\n",
       "  airline_sentiment_gold        name negativereason_gold  retweet_count  \\\n",
       "0  NaN                    cairdin     NaN                 0               \n",
       "1  NaN                    jnardino    NaN                 0               \n",
       "2  NaN                    yvonnalynn  NaN                 0               \n",
       "3  NaN                    jnardino    NaN                 0               \n",
       "4  NaN                    jnardino    NaN                 0               \n",
       "\n",
       "                                                                                                                             text  \\\n",
       "0  @VirginAmerica What @dhepburn said.                                                                                              \n",
       "1  @VirginAmerica plus you've added commercials to the experience... tacky.                                                         \n",
       "2  @VirginAmerica I didn't today... Must mean I need to take another trip!                                                          \n",
       "3  @VirginAmerica it's really aggressive to blast obnoxious \"entertainment\" in your guests' faces &amp; they have little recourse   \n",
       "4  @VirginAmerica and it's a really big bad thing about it                                                                          \n",
       "\n",
       "  tweet_coord              tweet_created tweet_location  \\\n",
       "0  NaN         2015-02-24 11:35:52 -0800  NaN             \n",
       "1  NaN         2015-02-24 11:15:59 -0800  NaN             \n",
       "2  NaN         2015-02-24 11:15:48 -0800  Lets Play       \n",
       "3  NaN         2015-02-24 11:15:36 -0800  NaN             \n",
       "4  NaN         2015-02-24 11:14:45 -0800  NaN             \n",
       "\n",
       "                user_timezone  \n",
       "0  Eastern Time (US & Canada)  \n",
       "1  Pacific Time (US & Canada)  \n",
       "2  Central Time (US & Canada)  \n",
       "3  Pacific Time (US & Canada)  \n",
       "4  Pacific Time (US & Canada)  "
      ]
     },
     "execution_count": 30,
     "metadata": {},
     "output_type": "execute_result"
    }
   ],
   "source": [
    "airlines_train.head()"
   ]
  },
  {
   "cell_type": "code",
   "execution_count": 31,
   "metadata": {},
   "outputs": [],
   "source": [
    "#airlines_train=airlines_train.reindex(np.random.permutation(airlines_train.index))"
   ]
  },
  {
   "cell_type": "code",
   "execution_count": 32,
   "metadata": {},
   "outputs": [],
   "source": [
    "airlines_train=airlines_train[['text','airline_sentiment']]"
   ]
  },
  {
   "cell_type": "code",
   "execution_count": 33,
   "metadata": {},
   "outputs": [
    {
     "data": {
      "image/png": "[encoded data removed]",
      "text/plain": [
       "<Figure size 648x432 with 1 Axes>"
      ]
     },
     "metadata": {},
     "output_type": "display_data"
    }
   ],
   "source": [
    "sns.factorplot(x=\"airline_sentiment\",data=airlines_train,kind=\"count\",size=6,aspect=1.5,palette=\"GnBu_r\")\n",
    "plt.show()"
   ]
  },
  {
   "cell_type": "markdown",
   "metadata": {},
   "source": [
    "# 3.Cleaning text"
   ]
  },
  {
   "cell_type": "code",
   "execution_count": 34,
   "metadata": {},
   "outputs": [],
   "source": [
    "class CleanText(BaseEstimator,TransformerMixin):\n",
    "    def remove_mentions(self,input_text):\n",
    "        return re.sub(r'@\\w+', '' , input_text)\n",
    "    def remove_urls(self,input_text):\n",
    "        return re.sub(r'http.?//[^\\s]+[\\s]?','',input_text)\n",
    "    def emoji_oneword(self,input_text):\n",
    "        return input_text.replace('_','')\n",
    "    def remove_punctuation(self,input_text):\n",
    "        punct=string.punctuation\n",
    "        trantab=str.maketrans(punct,len(punct)*' ')\n",
    "        return input_text.translate(trantab)\n",
    "    def remove_digits(self,input_text):\n",
    "        return re.sub('\\d+','',input_text)\n",
    "    def to_lower(self,input_text):\n",
    "        return input_text.lower()\n",
    "    def remove_stopwords(self,input_text):\n",
    "        stopwords_list=stopwords.words('english')\n",
    "        whitelist=[\"n't\",\"not\",\"no\"]\n",
    "        words=input_text.split()\n",
    "        clean_words=[word for word in words if (word not in stopword_list or word in whitelist) and len(word)>1]\n",
    "        return \" \".join(clean_words)\n",
    "    def stemming(self,input_text):\n",
    "        porter=PorterStemmer()\n",
    "        words=input_text.split()\n",
    "        stemmed_words=[porter.stem(word) for word in words]\n",
    "        return \" \".join(stemmed_words)\n",
    "    def fit(self,X,y=None, **fit_params):\n",
    "        return self\n",
    "    def transform(self,X, **transform_params):\n",
    "        clean_X=X.apply(self.remove_mentions).apply(self.emoji_oneword).apply(self.remove_punctuation).apply(self.remove_digits)\n",
    "        return clean_X"
   ]
  },
  {
   "cell_type": "markdown",
   "metadata": {},
   "source": [
    "# 4.Use Clean text"
   ]
  },
  {
   "cell_type": "code",
   "execution_count": 35,
   "metadata": {},
   "outputs": [],
   "source": [
    "import nltk"
   ]
  },
  {
   "cell_type": "code",
   "execution_count": 36,
   "metadata": {},
   "outputs": [
    {
     "name": "stderr",
     "output_type": "stream",
     "text": [
      "[nltk_data] Downloading package punkt to\n",
      "[nltk_data]     C:\\Users\\Jayaprada\\AppData\\Roaming\\nltk_data...\n",
      "[nltk_data]   Package punkt is already up-to-date!\n",
      "[nltk_data] Downloading package stopwords to\n",
      "[nltk_data]     C:\\Users\\Jayaprada\\AppData\\Roaming\\nltk_data...\n",
      "[nltk_data]   Package stopwords is already up-to-date!\n"
     ]
    },
    {
     "data": {
      "text/plain": [
       "True"
      ]
     },
     "execution_count": 36,
     "metadata": {},
     "output_type": "execute_result"
    }
   ],
   "source": [
    "nltk.download('punkt')\n",
    "nltk.download('stopwords')"
   ]
  },
  {
   "cell_type": "code",
   "execution_count": 37,
   "metadata": {},
   "outputs": [
    {
     "name": "stdout",
     "output_type": "stream",
     "text": [
      "0 records have no words left after text cleaning\n"
     ]
    }
   ],
   "source": [
    "ct=CleanText()\n",
    "sr_clean=ct.fit_transform(airlines_train.text)\n",
    "sr_clean.sample(5)\n",
    "empty_clean = sr_clean == ''\n",
    "print('{} records have no words left after text cleaning'.format(sr_clean[empty_clean].count()))\n",
    "sr_clean.loc[empty_clean] = '[no text]'"
   ]
  },
  {
   "cell_type": "markdown",
   "metadata": {},
   "source": [
    "# 5.Count vectorize"
   ]
  },
  {
   "cell_type": "code",
   "execution_count": 38,
   "metadata": {},
   "outputs": [
    {
     "data": {
      "image/png": "[encoded data removed]",
      "text/plain": [
       "<Figure size 864x720 with 1 Axes>"
      ]
     },
     "metadata": {},
     "output_type": "display_data"
    }
   ],
   "source": [
    "cv=CountVectorizer()\n",
    "bow=cv.fit_transform(sr_clean)\n",
    "word_freq=dict(zip(cv.get_feature_names(),np.asarray(bow.sum(axis=0)).ravel()))\n",
    "word_counter=collections.Counter(word_freq)\n",
    "word_counter_df=pd.DataFrame(word_counter.most_common(20),columns=['word','freq'])\n",
    "fig,ax=plt.subplots(figsize=(12,10))\n",
    "sns.barplot(x=\"word\",y=\"freq\",data=word_counter_df,palette=\"PuBuGn_d\",ax=ax)\n",
    "plt.show()"
   ]
  },
  {
   "cell_type": "markdown",
   "metadata": {},
   "source": [
    "# 6.Grid search"
   ]
  },
  {
   "cell_type": "code",
   "execution_count": 39,
   "metadata": {},
   "outputs": [],
   "source": [
    "def grid_vect(clf,parameters_clf,X_train,X_test,parameters_text=None,vect=None,is_w2v=False):\n",
    "    textcountscols=['count_capital_words','count_emojis','count_excl_quest_marks','count_hashtags','count_mentions','count_urls','count_words']\n",
    "    if is_w2v:\n",
    "        w2vcols=[]\n",
    "        for i in range(SIZE):\n",
    "            w2vcols.append(i)\n",
    "        features=FeatureUnion([('textcounts',ColumnExtractor(cols=textcountscols)),('w2v',ColumnExtractor(cols=w2vcols))],n_jobs=-1)\n",
    "    else:\n",
    "            features=FeatureUnion([('textCounts',ColumnExtractor(cols=textcountscols)),('pipe',Pipeline([('cleantext',ColumnExtractor(cols='clean_text')),('vect',vect)]))],n_jobs=-1)\n",
    "    pipeline=Pipeline([('features',features),('clf',clf)])\n",
    "\n",
    "\n",
    "\n",
    "    parameters=dict()\n",
    "    if parameters_text:\n",
    "        parameters.update(parameters_text)\n",
    "    parameters.update(parameters_clf)\n",
    "    grid_search=GridSearchCV(pipeline,parameters,n_jobs=-1,verbose=1,cv=5)\n",
    "    print(\"Performing grid search...\")\n",
    "    print(\"pipeline:\",[name for name,_ in pipeline.steps])\n",
    "    print(\"parameters:\")\n",
    "    pprint(parameters)\n",
    "    t0=time()\n",
    "    grid_search.fit(X_train,y_train)\n",
    "    print(\"done in %0.3fs\" %(time()-t0))\n",
    "    print()\n",
    "    print(\"Best CV score:%0.3f\"%grid_search.best_score_)\n",
    "    print(\"Best parameters set:\")\n",
    "    best_parameters=grid_search.best_estimator_.get_params()\n",
    "    for param_name in sorted(parameters.keys()):\n",
    "        print(\"\\t%s: %r\" %(param_name,best_parameters[param_name]))\n",
    "    print(\"Test score with best_estimator_: %0.3f\" % grid_search.best_estimator_.score(X_test,y_test))\n",
    "    print(\"\\n\")\n",
    "    print(\"Classification Report Test Data\")\n",
    "    print(classification_report(y_test,grid_search.best_estimator_.predict(X_test)))\n",
    "\n",
    "    return grid_search\n"
   ]
  },
  {
   "cell_type": "markdown",
   "metadata": {},
   "source": [
    "# 7.Parameter Grid search for Vectorizers"
   ]
  },
  {
   "cell_type": "code",
   "execution_count": 40,
   "metadata": {},
   "outputs": [],
   "source": [
    "parameters_vect={\n",
    "    'features__pipe__vect__max_df':(0.25,0.5,0.75),\n",
    "    'features__pipe__vect__ngram_range': ((1,1),(1,2)),\n",
    "    'features__pipe__vect__min_df':(1,2)\n",
    "}\n",
    "parameters_mnb={\n",
    "    'clf__alpha':(0.25,0.5,0.75)\n",
    "}\n",
    "parameters_logreg={\n",
    "    'clf__C':(0.25,0.5,1.0),\n",
    "    'clf__penalty':('l1','l2')\n",
    "}"
   ]
  },
  {
   "cell_type": "markdown",
   "metadata": {},
   "source": [
    "# 8.Column Extractor"
   ]
  },
  {
   "cell_type": "code",
   "execution_count": 41,
   "metadata": {},
   "outputs": [],
   "source": [
    "class ColumnExtractor(TransformerMixin,BaseEstimator):\n",
    "    def __init__(self,cols):\n",
    "        self.cols=cols\n",
    "    def transform(self,X, **transform_params):\n",
    "        return X[self.cols]\n",
    "    def fit(self,X,y=None,**fit_params):\n",
    "        return self\n",
    "    "
   ]
  },
  {
   "cell_type": "markdown",
   "metadata": {},
   "source": [
    "# 9.Text Counts"
   ]
  },
  {
   "cell_type": "code",
   "execution_count": 42,
   "metadata": {},
   "outputs": [],
   "source": [
    "class TextCounts(BaseEstimator,TransformerMixin):\n",
    "    def count_regex(self,pattern,tweet):\n",
    "        return len(re.findall(pattern,tweet))\n",
    "    def fit(self,X,y=None,**fit_params):\n",
    "        return self\n",
    "    def transform(self,X,**transform_params):\n",
    "        count_words=X.apply(lambda x: self.count_regex(r'\\w+',x))\n",
    "        count_mentions=X.apply(lambda x: self.count_regex(r'@\\w+',x))\n",
    "        count_hashtags=X.apply(lambda x:self.count_regex(r'#\\w+',x))\n",
    "        count_capital_words=X.apply(lambda x: self.count_regex(r'\\b[A-Z]{2,}\\b',x))\n",
    "        count_excl_quest_marks=X.apply(lambda x: self.count_regex(r'!|\\?',x))\n",
    "        count_urls=X.apply(lambda x:self.count_regex(r'http.?://[^\\s]+[\\s]?',x))\n",
    "        count_emojis=X.apply(lambda x: emoji.demojize(x)).apply(lambda x: self.count_regex(r':[a-z_&]+:',x))\n",
    "        df=pd.DataFrame({'count_words': count_words\n",
    "                        , 'count_mentions': count_mentions\n",
    "                         , 'count_hashtags': count_hashtags\n",
    "                         , 'count_capital_words': count_capital_words\n",
    "                         , 'count_excl_quest_marks': count_excl_quest_marks\n",
    "                         , 'count_urls': count_urls\n",
    "                         ,'count_emojis': count_emojis\n",
    "                        })\n",
    "        return df\n",
    "tc=TextCounts()\n",
    "airlines_eda=tc.fit_transform(airlines_train.text)\n",
    "airlines_eda['airline_sentiment']=airlines_train.airline_sentiment        "
   ]
  },
  {
   "cell_type": "markdown",
   "metadata": {},
   "source": [
    "# 10.Count Vectorizer Classifiers "
   ]
  },
  {
   "cell_type": "code",
   "execution_count": 43,
   "metadata": {},
   "outputs": [
    {
     "name": "stdout",
     "output_type": "stream",
     "text": [
      "Performing grid search...\n",
      "pipeline: ['features', 'clf']\n",
      "parameters:\n",
      "{'clf__alpha': (0.25, 0.5, 0.75),\n",
      " 'features__pipe__vect__max_df': (0.25, 0.5, 0.75),\n",
      " 'features__pipe__vect__min_df': (1, 2),\n",
      " 'features__pipe__vect__ngram_range': ((1, 1), (1, 2))}\n",
      "Fitting 5 folds for each of 36 candidates, totalling 180 fits\n"
     ]
    },
    {
     "name": "stderr",
     "output_type": "stream",
     "text": [
      "[Parallel(n_jobs=-1)]: Using backend LokyBackend with 8 concurrent workers.\n",
      "[Parallel(n_jobs=-1)]: Done  34 tasks      | elapsed:   11.0s\n",
      "[Parallel(n_jobs=-1)]: Done 180 out of 180 | elapsed:   43.5s finished\n"
     ]
    },
    {
     "name": "stdout",
     "output_type": "stream",
     "text": [
      "done in 46.446s\n",
      "\n",
      "Best CV score:0.793\n",
      "Best parameters set:\n",
      "\tclf__alpha: 0.75\n",
      "\tfeatures__pipe__vect__max_df: 0.25\n",
      "\tfeatures__pipe__vect__min_df: 2\n",
      "\tfeatures__pipe__vect__ngram_range: (1, 2)\n",
      "Test score with best_estimator_: 0.799\n",
      "\n",
      "\n",
      "Classification Report Test Data\n",
      "              precision    recall  f1-score   support\n",
      "\n",
      "    negative       0.84      0.91      0.88       940\n",
      "     neutral       0.68      0.55      0.61       292\n",
      "    positive       0.73      0.64      0.69       232\n",
      "\n",
      "    accuracy                           0.80      1464\n",
      "   macro avg       0.75      0.70      0.72      1464\n",
      "weighted avg       0.79      0.80      0.79      1464\n",
      "\n",
      "Performing grid search...\n",
      "pipeline: ['features', 'clf']\n",
      "parameters:\n",
      "{'clf__C': (0.25, 0.5, 1.0),\n",
      " 'clf__penalty': ('l1', 'l2'),\n",
      " 'features__pipe__vect__max_df': (0.25, 0.5, 0.75),\n",
      " 'features__pipe__vect__min_df': (1, 2),\n",
      " 'features__pipe__vect__ngram_range': ((1, 1), (1, 2))}\n",
      "Fitting 5 folds for each of 72 candidates, totalling 360 fits\n"
     ]
    },
    {
     "name": "stderr",
     "output_type": "stream",
     "text": [
      "[Parallel(n_jobs=-1)]: Using backend LokyBackend with 8 concurrent workers.\n",
      "[Parallel(n_jobs=-1)]: Done  34 tasks      | elapsed:    6.1s\n",
      "[Parallel(n_jobs=-1)]: Done 184 tasks      | elapsed:  1.6min\n",
      "[Parallel(n_jobs=-1)]: Done 360 out of 360 | elapsed:  3.9min finished\n"
     ]
    },
    {
     "name": "stdout",
     "output_type": "stream",
     "text": [
      "done in 245.141s\n",
      "\n",
      "Best CV score:0.805\n",
      "Best parameters set:\n",
      "\tclf__C: 0.25\n",
      "\tclf__penalty: 'l2'\n",
      "\tfeatures__pipe__vect__max_df: 0.5\n",
      "\tfeatures__pipe__vect__min_df: 1\n",
      "\tfeatures__pipe__vect__ngram_range: (1, 2)\n",
      "Test score with best_estimator_: 0.802\n",
      "\n",
      "\n",
      "Classification Report Test Data\n",
      "              precision    recall  f1-score   support\n",
      "\n",
      "    negative       0.87      0.89      0.88       940\n",
      "     neutral       0.62      0.65      0.64       292\n",
      "    positive       0.74      0.63      0.68       232\n",
      "\n",
      "    accuracy                           0.80      1464\n",
      "   macro avg       0.74      0.72      0.73      1464\n",
      "weighted avg       0.80      0.80      0.80      1464\n",
      "\n"
     ]
    }
   ],
   "source": [
    "df_model=airlines_eda\n",
    "df_model['clean_text']=sr_clean\n",
    "df_model.columns.tolist()\n",
    "X_train,X_test,y_train,y_test=train_test_split(df_model.drop('airline_sentiment',axis=1),df_model.airline_sentiment,test_size=0.1,random_state=37)\n",
    "mnb=MultinomialNB()\n",
    "logreg=LogisticRegression()\n",
    "countvect=CountVectorizer()\n",
    "best_mnb_countvect=grid_vect(mnb,parameters_mnb,X_train,X_test,parameters_text=parameters_vect,vect=countvect)\n",
    "best_logreg_countvect=grid_vect(logreg,parameters_logreg,X_train,X_test,parameters_text=parameters_vect,vect=countvect)\n"
   ]
  },
  {
   "cell_type": "markdown",
   "metadata": {},
   "source": [
    "# 11.TfIdfClassifiers"
   ]
  },
  {
   "cell_type": "code",
   "execution_count": 44,
   "metadata": {},
   "outputs": [
    {
     "name": "stdout",
     "output_type": "stream",
     "text": [
      "Performing grid search...\n",
      "pipeline: ['features', 'clf']\n",
      "parameters:\n",
      "{'clf__alpha': (0.25, 0.5, 0.75),\n",
      " 'features__pipe__vect__max_df': (0.25, 0.5, 0.75),\n",
      " 'features__pipe__vect__min_df': (1, 2),\n",
      " 'features__pipe__vect__ngram_range': ((1, 1), (1, 2))}\n",
      "Fitting 5 folds for each of 36 candidates, totalling 180 fits\n"
     ]
    },
    {
     "name": "stderr",
     "output_type": "stream",
     "text": [
      "[Parallel(n_jobs=-1)]: Using backend LokyBackend with 8 concurrent workers.\n",
      "[Parallel(n_jobs=-1)]: Done  34 tasks      | elapsed:    7.4s\n",
      "[Parallel(n_jobs=-1)]: Done 180 out of 180 | elapsed:   40.3s finished\n"
     ]
    },
    {
     "name": "stdout",
     "output_type": "stream",
     "text": [
      "done in 42.497s\n",
      "\n",
      "Best CV score:0.747\n",
      "Best parameters set:\n",
      "\tclf__alpha: 0.25\n",
      "\tfeatures__pipe__vect__max_df: 0.5\n",
      "\tfeatures__pipe__vect__min_df: 2\n",
      "\tfeatures__pipe__vect__ngram_range: (1, 2)\n",
      "Test score with best_estimator_: 0.765\n",
      "\n",
      "\n",
      "Classification Report Test Data\n",
      "              precision    recall  f1-score   support\n",
      "\n",
      "    negative       0.76      0.98      0.86       940\n",
      "     neutral       0.76      0.34      0.47       292\n",
      "    positive       0.80      0.45      0.58       232\n",
      "\n",
      "    accuracy                           0.77      1464\n",
      "   macro avg       0.77      0.59      0.63      1464\n",
      "weighted avg       0.77      0.77      0.73      1464\n",
      "\n",
      "Performing grid search...\n",
      "pipeline: ['features', 'clf']\n",
      "parameters:\n",
      "{'clf__C': (0.25, 0.5, 1.0),\n",
      " 'clf__penalty': ('l1', 'l2'),\n",
      " 'features__pipe__vect__max_df': (0.25, 0.5, 0.75),\n",
      " 'features__pipe__vect__min_df': (1, 2),\n",
      " 'features__pipe__vect__ngram_range': ((1, 1), (1, 2))}\n",
      "Fitting 5 folds for each of 72 candidates, totalling 360 fits\n"
     ]
    },
    {
     "name": "stderr",
     "output_type": "stream",
     "text": [
      "[Parallel(n_jobs=-1)]: Using backend LokyBackend with 8 concurrent workers.\n",
      "[Parallel(n_jobs=-1)]: Done  34 tasks      | elapsed:    5.3s\n",
      "[Parallel(n_jobs=-1)]: Done 184 tasks      | elapsed:  1.5min\n",
      "[Parallel(n_jobs=-1)]: Done 360 out of 360 | elapsed:  3.8min finished\n"
     ]
    },
    {
     "name": "stdout",
     "output_type": "stream",
     "text": [
      "done in 228.841s\n",
      "\n",
      "Best CV score:0.766\n",
      "Best parameters set:\n",
      "\tclf__C: 1.0\n",
      "\tclf__penalty: 'l2'\n",
      "\tfeatures__pipe__vect__max_df: 0.25\n",
      "\tfeatures__pipe__vect__min_df: 2\n",
      "\tfeatures__pipe__vect__ngram_range: (1, 1)\n",
      "Test score with best_estimator_: 0.773\n",
      "\n",
      "\n",
      "Classification Report Test Data\n",
      "              precision    recall  f1-score   support\n",
      "\n",
      "    negative       0.81      0.91      0.86       940\n",
      "     neutral       0.61      0.51      0.56       292\n",
      "    positive       0.74      0.53      0.62       232\n",
      "\n",
      "    accuracy                           0.77      1464\n",
      "   macro avg       0.72      0.65      0.68      1464\n",
      "weighted avg       0.76      0.77      0.76      1464\n",
      "\n"
     ]
    }
   ],
   "source": [
    "tfidfvect= TfidfVectorizer()\n",
    "best_mnb_tfidf=grid_vect(mnb,parameters_mnb,X_train,X_test,parameters_text=parameters_vect,vect=tfidfvect)\n",
    "best_logreg_tfidf=grid_vect(logreg,parameters_logreg,X_train,X_test,parameters_vect,vect=tfidfvect)"
   ]
  },
  {
   "cell_type": "code",
   "execution_count": null,
   "metadata": {},
   "outputs": [],
   "source": []
  }
 ],
 "metadata": {
  "kernelspec": {
   "display_name": "Python 3",
   "language": "python",
   "name": "python3"
  },
  "language_info": {
   "codemirror_mode": {
    "name": "ipython",
    "version": 3
   },
   "file_extension": ".py",
   "mimetype": "text/x-python",
   "name": "python",
   "nbconvert_exporter": "python",
   "pygments_lexer": "ipython3",
   "version": "3.7.4"
  }
 },
 "nbformat": 4,
 "nbformat_minor": 2
}
